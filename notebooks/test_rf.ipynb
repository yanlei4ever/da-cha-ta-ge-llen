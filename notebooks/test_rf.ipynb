{
 "cells": [
  {
   "cell_type": "code",
   "execution_count": 1,
   "metadata": {
    "collapsed": false
   },
   "outputs": [],
   "source": [
    "import pandas as pd\n",
    "import matplotlib.pyplot as plt\n",
    "\n",
    "data = pd.read_csv('../../data/final/final1.csv', sep=';', encoding='utf8')"
   ]
  },
  {
   "cell_type": "code",
   "execution_count": 2,
   "metadata": {
    "collapsed": false
   },
   "outputs": [],
   "source": [
    "newcols = pd.get_dummies(data['NAME'])\n",
    "names = newcols.columns.values\n",
    "data[names] = newcols\n",
    "data = data.drop('NAME', axis=1)"
   ]
  },
  {
   "cell_type": "code",
   "execution_count": 3,
   "metadata": {
    "collapsed": false
   },
   "outputs": [
    {
     "data": {
      "text/plain": [
       "RandomForestRegressor(bootstrap=True, criterion='mse', max_depth=None,\n",
       "           max_features='auto', max_leaf_nodes=None, min_samples_leaf=1,\n",
       "           min_samples_split=2, min_weight_fraction_leaf=0.0,\n",
       "           n_estimators=10, n_jobs=1, oob_score=False, random_state=None,\n",
       "           verbose=0, warm_start=False)"
      ]
     },
     "execution_count": 3,
     "metadata": {},
     "output_type": "execute_result"
    }
   ],
   "source": [
    "from sklearn.ensemble import RandomForestRegressor\n",
    "\n",
    "X = data.drop('CALLS', axis=1).values\n",
    "y = data['CALLS'].values\n",
    "\n",
    "model = RandomForestRegressor(n_estimators=10, criterion='mse')\n",
    "model.fit(X,y)"
   ]
  },
  {
   "cell_type": "code",
   "execution_count": 6,
   "metadata": {
    "collapsed": false
   },
   "outputs": [],
   "source": [
    "# output line format\n",
    "from math import ceil\n",
    "from datetime import datetime\n",
    "from workalendar.europe import France\n",
    "import numpy as np\n",
    "import io\n",
    "\n",
    "# features\n",
    "\n",
    "features = ['YEAR', 'MONTH', 'DAY',\n",
    "            'WEEKDAY', 'WEEKEND', 'HOLIDAY',\n",
    "            'TIMESLOT', 'DAYSLOT',\n",
    "            'NAME', 'CALLS']\n",
    "\n",
    "# French calendar object\n",
    "calendar = France()\n",
    "\n",
    "# first and last dates possibly considered\n",
    "first = datetime.strptime('2011-01-01 00:00:00', '%Y-%m-%d %H:%M:%S')\n",
    "last = datetime.strptime('2013-12-31 23:30:00', '%Y-%m-%d %H:%M:%S')\n",
    "\n",
    "output_line = u\"{datetime}\\t{ass_assignment}\\t{calls}\\r\\n\"\n",
    "\n",
    "conv = dict(zip(names, range(26)))\n",
    "\n",
    "def dummy(name):\n",
    "    x = np.zeros(26)\n",
    "    x[conv[name]] = 1\n",
    "    return x\n",
    "\n",
    "def parse_date(datestring):\n",
    "    \"\"\" Parse date string and return relevant features. \"\"\"\n",
    "\n",
    "    # datetime object encoding data information\n",
    "    date = datetime.strptime(datestring[:-4], '%Y-%m-%d %H:%M:%S')\n",
    "\n",
    "    # create date-related predictor\n",
    "\n",
    "    weekday = date.weekday()\n",
    "    isweekend = int(weekday >= 5)\n",
    "    isholiday = int(calendar.is_working_day(date.date()))\n",
    "\n",
    "    timeslot = int((date - first).total_seconds() / 1800)  # number of half-hours since 01/01/2011\n",
    "    dayslot = 2 * date.hour + date.minute / 30  # number of half-hours since midnight\n",
    "\n",
    "    return (date.year, date.month, date.day,\n",
    "            weekday, isweekend, isholiday, timeslot, dayslot)\n",
    "\n",
    "\n",
    "def predict(datestring, ass_assignment):\n",
    "    \"\"\" Final prediction method being called.\n",
    "        Takes the datetime and ass_assignment and predict the number of calls.\n",
    "    \"\"\"\n",
    "    return model.predict(np.hstack([parse_date(datestring), dummy(ass_assignment)]).reshape(1,-1))\n",
    "\n",
    "\n",
    "def submit(inputfile, outputfile):\n",
    "    \"\"\" Read submission file and make prediction, saving output to new file. \"\"\"\n",
    "\n",
    "    with io.open(inputfile, 'r') as input, io.open(outputfile, 'w') as output:\n",
    "        # copy heading to file\n",
    "        output.write(input.readline())\n",
    "\n",
    "        # read each line, predict, and output\n",
    "        for line in input:\n",
    "            datetime, ass_assignment, _ = line.split('\\t')\n",
    "\n",
    "            calls = predict(datetime, ass_assignment)[0]\n",
    "\n",
    "            output.write(output_line.format(datetime=datetime,\n",
    "                                            ass_assignment=ass_assignment,\n",
    "                                            calls=calls))\n",
    "\n",
    "inputfile = '../outputs/submission.txt'\n",
    "outputfile = '../outputs/output_rf.txt'\n",
    "\n",
    "submit(inputfile, outputfile)"
   ]
  },
  {
   "cell_type": "code",
   "execution_count": 2,
   "metadata": {
    "collapsed": false
   },
   "outputs": [
    {
     "name": "stdout",
     "output_type": "stream",
     "text": [
      "CAT 0.988925529032 0.46425485611\n",
      "CMS 0.78171106441 0.224555015564\n",
      "Crises 0.687733085134 0.127690076828\n",
      "Domicile 0.983705150388 1.15469384193\n",
      "Evenements 0.971463524036 0.0434510707855\n",
      "Gestion 0.753425805423 0.244548082352\n",
      "Gestion - Accueil Telephonique 0.980479227508 0.651282072067\n",
      "Gestion Amex 0.866320869304 0.171950101852\n",
      "Gestion Assurances 0.925886582358 0.436162948608\n",
      "Gestion Clients 0.842953166586 0.429405927658\n",
      "Gestion DZ 0.791426868689 0.338741064072\n",
      "Gestion Relation Clienteles 0.860497032569 0.406984090805\n",
      "Gestion Renault 0.841323549705 0.133215904236\n",
      "Japon 0.855591108499 1.06210303307\n",
      "Manager 0.79335671756 0.610345125198\n",
      "Mécanicien 0.86531965081 0.470265865326\n",
      "Médical 0.972354127647 1.16708803177\n",
      "Nuit 0.968738970322 1.14451408386\n",
      "Prestataires 0.791765086767 0.184625148773\n",
      "RENAULT 0.96194072985 1.04368305206\n",
      "RTC 0.949794239669 0.383384943008\n",
      "Regulation Medicale 0.83825978076 1.02713108063\n",
      "SAP 0.941202663543 0.731927871704\n",
      "Services 0.980008233353 1.15965795517\n",
      "Tech. Axa 0.991759664036 1.02565598488\n",
      "Tech. Inter 0.978780046764 1.12767910957\n",
      "Tech. Total 0.980222031482 1.02772212029\n",
      "Téléphonie 0.99842723133 1.26648283005\n",
      "Total time: 1.26658701897\n"
     ]
    }
   ],
   "source": [
    "from sklearn.ensemble import RandomForestRegressor\n",
    "from time import time\n",
    "\n",
    "names = data['NAME'].drop_duplicates().sort_values()\n",
    "\n",
    "models = {}\n",
    "\n",
    "for name in names:\n",
    "    t0 = time()\n",
    "    test = data[data['NAME'] == name].drop('NAME', axis=1)\n",
    "    X,y = test.drop('CALLS', axis=1).values, test['CALLS'].values\n",
    "    \n",
    "    model = RandomForestRegressor(n_estimators=10, criterion='mse')\n",
    "    model.fit(X,y)\n",
    "    models[name] = model\n",
    "    print name, model.score(X,y), time()-t0\n",
    "print 'Total time:', time()-t0"
   ]
  },
  {
   "cell_type": "code",
   "execution_count": 4,
   "metadata": {
    "collapsed": false
   },
   "outputs": [],
   "source": [
    "# output line format\n",
    "from math import ceil\n",
    "from datetime import datetime\n",
    "from workalendar.europe import France\n",
    "import numpy as np\n",
    "\n",
    "# features\n",
    "\n",
    "features = ['YEAR', 'MONTH', 'DAY',\n",
    "            'WEEKDAY', 'WEEKEND', 'HOLIDAY',\n",
    "            'TIMESLOT', 'DAYSLOT',\n",
    "            'NAME', 'CALLS']\n",
    "\n",
    "# French calendar object\n",
    "calendar = France()\n",
    "\n",
    "# first and last dates possibly considered\n",
    "first = datetime.strptime('2011-01-01 00:00:00', '%Y-%m-%d %H:%M:%S')\n",
    "last = datetime.strptime('2013-12-31 23:30:00', '%Y-%m-%d %H:%M:%S')\n",
    "\n",
    "output_line = \"{datetime}\\t{ass_assignment}\\t{calls}\\r\\n\"\n",
    "\n",
    "def parse_date(datestring):\n",
    "    \"\"\" Parse date string and return relevant features. \"\"\"\n",
    "\n",
    "    # datetime object encoding data information\n",
    "    date = datetime.strptime(datestring[:-4], '%Y-%m-%d %H:%M:%S')\n",
    "\n",
    "    # create date-related predictor\n",
    "\n",
    "    weekday = date.weekday()\n",
    "    isweekend = int(weekday >= 5)\n",
    "    isholiday = int(calendar.is_working_day(date.date()))\n",
    "\n",
    "    timeslot = int((date - first).total_seconds() / 1800)  # number of half-hours since 01/01/2011\n",
    "    dayslot = 2 * date.hour + date.minute / 30  # number of half-hours since midnight\n",
    "\n",
    "    return (date.year, date.month, date.day,\n",
    "            weekday, isweekend, isholiday, timeslot, dayslot)\n",
    "\n",
    "\n",
    "def predict(datestring, ass_assignment):\n",
    "    \"\"\" Final prediction method being called.\n",
    "        Takes the datetime and ass_assignment and predict the number of calls.\n",
    "    \"\"\"\n",
    "    return ceil(models[ass_assignment].predict(np.array(parse_date(datestring)).reshape(1,-1)))\n",
    "\n",
    "\n",
    "def submit(inputfile, outputfile):\n",
    "    \"\"\" Read submission file and make prediction, saving output to new file. \"\"\"\n",
    "\n",
    "    with open(inputfile, 'r') as input, open(outputfile, 'w') as output:\n",
    "        # copy heading to file\n",
    "        output.write(input.readline())\n",
    "\n",
    "        # read each line, predict, and output\n",
    "        for line in input:\n",
    "            datetime, ass_assignment, _ = line.split('\\t')\n",
    "\n",
    "            calls = predict(datetime, ass_assignment)\n",
    "\n",
    "            output.write(output_line.format(datetime=datetime,\n",
    "                                            ass_assignment=ass_assignment,\n",
    "                                            calls=calls))\n",
    "\n",
    "inputfile = './submission.txt'\n",
    "outputfile = './output_rf.txt'\n",
    "\n",
    "submit(inputfile, outputfile)"
   ]
  },
  {
   "cell_type": "code",
   "execution_count": 22,
   "metadata": {
    "collapsed": false
   },
   "outputs": [
    {
     "data": {
      "text/plain": [
       "LabelEncoder()"
      ]
     },
     "execution_count": 22,
     "metadata": {},
     "output_type": "execute_result"
    }
   ],
   "source": [
    "from sklearn.preprocessing import OneHotEncoder, LabelEncoder\n",
    "\n",
    "labels = LabelEncoder()\n",
    "labels.fit(np.arange(7))"
   ]
  },
  {
   "cell_type": "code",
   "execution_count": 23,
   "metadata": {
    "collapsed": false
   },
   "outputs": [
    {
     "data": {
      "text/plain": [
       "6"
      ]
     },
     "execution_count": 23,
     "metadata": {},
     "output_type": "execute_result"
    }
   ],
   "source": [
    "labels.transform(6)"
   ]
  },
  {
   "cell_type": "code",
   "execution_count": 29,
   "metadata": {
    "collapsed": false
   },
   "outputs": [
    {
     "data": {
      "text/plain": [
       "[1, 0, 0, 0, 0, 0]"
      ]
     },
     "execution_count": 29,
     "metadata": {},
     "output_type": "execute_result"
    }
   ],
   "source": [
    "numerical_encoder(1,7,drop0=True)"
   ]
  },
  {
   "cell_type": "code",
   "execution_count": 24,
   "metadata": {
    "collapsed": false
   },
   "outputs": [
    {
     "ename": "NameError",
     "evalue": "name 'date_encoder' is not defined",
     "output_type": "error",
     "traceback": [
      "\u001b[1;31m---------------------------------------------------------------------------\u001b[0m",
      "\u001b[1;31mNameError\u001b[0m                                 Traceback (most recent call last)",
      "\u001b[1;32m<ipython-input-24-590162b0cac1>\u001b[0m in \u001b[0;36m<module>\u001b[1;34m()\u001b[0m\n\u001b[0;32m     25\u001b[0m             isweekend, isholiday, timeslot, dayslot] + weekday\n\u001b[0;32m     26\u001b[0m \u001b[1;33m\u001b[0m\u001b[0m\n\u001b[1;32m---> 27\u001b[1;33m \u001b[0mdate_encoder\u001b[0m\u001b[1;33m(\u001b[0m\u001b[1;34m'2011-01-01 00:00:00.000'\u001b[0m\u001b[1;33m)\u001b[0m\u001b[1;33m\u001b[0m\u001b[0m\n\u001b[0m",
      "\u001b[1;31mNameError\u001b[0m: name 'date_encoder' is not defined"
     ]
    }
   ],
   "source": [
    "def numerical_encoder(val, n, drop0=False):\n",
    "    \n",
    "    ret = [0]*n\n",
    "    ret[val] = 1\n",
    "    if drop0:\n",
    "        del ret[0]\n",
    "    return ret\n",
    "        \n",
    "    \n",
    "\n",
    "def parse_date(datestring):\n",
    "    \n",
    "    date = datetime.strptime(datestring[:-4], '%Y-%m-%d %H:%M:%S')\n",
    "\n",
    "    # create date-related predictor\n",
    "    year = date.year\n",
    "    month = numerical_encoder(date.month-1, 12, drop0=True)\n",
    "    day = numerical_encoder(date.day-1, 12, drop0=True)\n",
    "    \n",
    "    weekday = numerical_encoder(date.weekday(), 7, drop0=True)\n",
    "    isweekend = int(weekday >= 5)\n",
    "    isholiday = int(calendar.is_working_day(date.date()))\n",
    "\n",
    "    timeslot = int((date - first).total_seconds() / 1800)  # number of half-hours since 01/01/2011 00:00\n",
    "    dayslot = 2*date.hour + date.minute/30  # number of half-hours since midnight\n",
    "    dayslot = numerical_encoder(dayslot, 48, drop0=True)\n",
    "    \n",
    "    return [timeslot, date.year, date.month, date.day,\n",
    "            dayslot, isweekend, isholiday] + weekday\n",
    "\n",
    "date_encoder('2011-01-01 00:00:00.000')"
   ]
  },
  {
   "cell_type": "code",
   "execution_count": null,
   "metadata": {
    "collapsed": true
   },
   "outputs": [],
   "source": []
  }
 ],
 "metadata": {
  "kernelspec": {
   "display_name": "Python 2",
   "language": "python",
   "name": "python2"
  },
  "language_info": {
   "codemirror_mode": {
    "name": "ipython",
    "version": 2
   },
   "file_extension": ".py",
   "mimetype": "text/x-python",
   "name": "python",
   "nbconvert_exporter": "python",
   "pygments_lexer": "ipython2",
   "version": "2.7.12"
  }
 },
 "nbformat": 4,
 "nbformat_minor": 1
}
